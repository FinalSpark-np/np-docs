{
 "cells": [
  {
   "cell_type": "markdown",
   "id": "887bd1c3",
   "metadata": {},
   "source": [
    "# NeuroPlatform Version 2"
   ]
  },
  {
   "cell_type": "markdown",
   "id": "5c9e7727",
   "metadata": {},
   "source": [
    "This version of the neuroplatform is for now only for dedicated clients that are not using the shared access.\n",
    "\n",
    "The interface and the code are slightly different from the version 1. Here is a small overview of how this version works. We will go through the visual interface, then the code and finally the database."
   ]
  },
  {
   "cell_type": "markdown",
   "id": "87ac7cd5",
   "metadata": {},
   "source": [
    "## 1- Intan interface\n",
    "\n",
    "Here is what the interface looks like :"
   ]
  },
  {
   "cell_type": "markdown",
   "id": "70ec9ea3",
   "metadata": {},
   "source": [
    "```{figure} ../_static/images/NPv2_interface.png\n",
    "---\n",
    "width: 100%\n",
    "name: NPv2 interface\n",
    "---\n",
    "NeuroPlatform v2 interface.\n",
    "```\n",
    "\n",
    "To get the overlays of spikes for one electrode, first click on a trace to select it, then go to Tools / Spike Scope :\n",
    "\n",
    "```{figure} ../_static/images/path_spike_scope.png\n",
    "---\n",
    "width: 15%\n",
    "name: path spike scope\n",
    "---\n",
    "Path to Spike Scope.\n",
    "```\n",
    "\n",
    "It will open a new window (see below). Click on 'Set to Selected' to see the trace you had chosen before. \n",
    "\n",
    "Adapt manually the treshold of amplitude value you want to use to detect spikes. \n",
    "\n",
    "You can also have an idea of the electrode noise by checking the value 'RMS' on the top left. \n",
    "\n",
    "```{figure} ../_static/images/spike_scope.png\n",
    "---\n",
    "width: 80%\n",
    "name: spike scope\n",
    "---\n",
    "Spike Scope.\n",
    "```"
   ]
  },
  {
   "cell_type": "markdown",
   "id": "ff66d0f0",
   "metadata": {},
   "source": [
    "## 2- Python Code"
   ]
  },
  {
   "cell_type": "markdown",
   "id": "281b160d",
   "metadata": {},
   "source": [
    "### Imports"
   ]
  },
  {
   "cell_type": "code",
   "execution_count": null,
   "id": "a192ab21",
   "metadata": {
    "vscode": {
     "languageId": "plaintext"
    }
   },
   "outputs": [],
   "source": [
    "%autoawait asyncio\n",
    "from datetime import timedelta, datetime\n",
    "import numpy as np\n",
    "import time\n",
    "from neuroplatformv2.core.trigger import TriggerController\n",
    "from neuroplatformv2.core.database import (\n",
    "    DatabaseController,\n",
    "    TriggersQuery,\n",
    "    SpikeCountQuery,\n",
    "    SpikeEventQuery,\n",
    "    RawSpikeQuery,\n",
    "    get_raw_spike,\n",
    ")\n",
    "from neuroplatformv2.core.intan import IntanController\n",
    "from neuroplatformv2.utils.schemas import (\n",
    "    StimParam,\n",
    "    StimPolarity,\n",
    "    StartRawRecordingRequest,\n",
    ")\n",
    "from neuroplatformv2.core.camera import CameraController\n",
    "from neuroplatformv2.utils.enumerations import MEA\n",
    "import matplotlib.pyplot as plt"
   ]
  },
  {
   "cell_type": "markdown",
   "id": "49174e0b",
   "metadata": {},
   "source": [
    "### Empty shell of an experiment \n",
    "\n",
    "Here is the general structure of an experiment. We will see in the next sections how to create stimulation parameters, update them, send stimulations, and disable them."
   ]
  },
  {
   "cell_type": "code",
   "execution_count": null,
   "id": "02be6ec4",
   "metadata": {
    "vscode": {
     "languageId": "plaintext"
    }
   },
   "outputs": [],
   "source": [
    "# 1 - Define the stimulation parameters\n",
    "# ...\n",
    "\n",
    "# 2 - Open the intan and trigger controllers\n",
    "intan = IntanController()\n",
    "trigger = TriggerController(\"admin\")\n",
    "\n",
    "# 3 - Start the experiment \n",
    "try:\n",
    "\n",
    "    # 4 - Update your stimulation parameters in the intan\n",
    "    # ...\n",
    "\n",
    "    # 5 - Send triggers (that use our stimulation parameters)\n",
    "    # ...\n",
    "\n",
    "    # 6 - Disable stimulation parameters\n",
    "    # ...\n",
    "\n",
    "# 7 - Close the experiment\n",
    "finally:\n",
    "    await intan._close()\n",
    "    trigger.close()"
   ]
  },
  {
   "cell_type": "markdown",
   "id": "b3568836",
   "metadata": {},
   "source": [
    "### Stimulation parameters\n",
    "\n",
    "We need to define the stimulation parameters.\n",
    "\n",
    "Through Python, you will be controlling the Intan software to set the stimulation parameters.\n",
    "\n",
    "\n",
    "The software defines stimulations using the elements shown here :\n",
    "\n",
    "```{figure} ../_static/images/stimparam.png\n",
    "---\n",
    "width: 100%\n",
    "name: stimparam\n",
    "---\n",
    "Stimulation parameters.\n",
    "```\n",
    "\n",
    "```{tip}\n",
    "Feel free to use this as a visual reference when setting your parameters.\n",
    "```\n",
    "\n",
    "Stimulation parameters are defined by several values, such as the amplitude, the duration, and the electrode to stimulate.\n",
    "See below for a detailed explanation of the parameters.\n",
    "\n",
    "#### StimParam reference\n",
    "\n",
    "| Name                     | Description                          | Default Value |\n",
    "|--------------------------|--------------------------------------|---------------|\n",
    "| `enable`                 | Enable stimulation                   | True          |\n",
    "| `index`                  | Electrode index [0-127]              | 0            |\n",
    "| `trigger_key`            | Trigger key [0-15]                   | 0             |\n",
    "| `polarity`               | Polarity of the stimulation          | NegativeFirst |\n",
    "| `phase_duration1`        | D1 [us]                              | 100.0         |\n",
    "| `phase_amplitude1`       | A1 [uA]                              | 1.0           |\n",
    "| `phase_duration2`        | D2 [us]                              | 100           |\n",
    "| `phase_amplitude2`       | A2 [uA]                              | 1.0           |\n",
    "|--------------------------|--------------------------------------|---------------|\n",
    "| `stim_shape`             | Stimulation Shape                    | Biphasic      |\n",
    "| `interphase_delay`       | Interphase delay [us]                | 0.0           |\n",
    "| `trigger_delay`          | Post trigger delay [us]              | 0             |\n",
    "| `nb_pulse`               | Number of pulses                     | 0             |\n",
    "| `pulse_train_period`     | Pulse Train Period [us]              | 10000         |\n",
    "|--------------------------|--------------------------------------|---------------|\n",
    "| `post_stim_ref_period`   | Post-Stimulation Refractory Period [us] | 1000.0    |\n",
    "| `enable_amp_settle`      | Enable amplitude settling            | True          |\n",
    "| `pre_stim_amp_settle`    | Pre-stimulation amplitude settling [us] | 0.0       |\n",
    "| `post_stim_amp_settle`   | Post-stimulation amplitude settling [us] | 1000.0    |\n",
    "| `enable_charge_recovery` | Enable charge recovery               | True          |\n",
    "| `post_charge_recovery_on`| Post charge recovery on [us]         | 0.0           |\n",
    "| `post_charge_recovery_off`| Post charge recovery off [us]       | 100.0         |\n",
    "\n",
    "````{margin}\n",
    "```{seealso}\n",
    "You can use the [StimParamLoader utility](../np_utils/stimparamloader) to help you manage and preview your parameters.\n",
    "```\n",
    "````\n",
    "\n",
    "- **The first section of the table contains the basic parameters for the stimulation.**\n",
    "  - You likely will have to adapt these for each experiment.\n",
    "  - If possible, balance the charge of the stimulation.\n",
    "    - Ensure that $\\text{phase_duration1} \\times \\text{phase_amplitude1} = \\text{phase_duration2} \\times \\text{phase_amplitude2}$.\n",
    "    - This improves the lifetime of both the organoid and the electrodes.\n",
    "  - The polarity can greatly affect the response. Please remember to check which polarity is best for your experiment.\n",
    "- The second section contains useful parameters you may want to modify for specific experiments.\n",
    "  - The `nb_pulse` parameter is useful for burst stimulation.\n",
    "  - The `pulse_train_period` parameter is useful for setting the period of the burst stimulation.\n",
    "- The last section contains parameters that we recommend leaving as-is.\n",
    "  - Please contact us if you have questions regarding the relevance of these parameters for your experiment.\n",
    "  \n",
    "\n",
    "```{note}\n",
    "Due to the network-based nature of the communication between components, using Python to time your stimulation (e.g. with `time.sleep()`) will always be less precise than using the pulse train settings.\n",
    "However, the pulse train settings may not be changed quickly during the experiment, due to the delay when sending the parameters to the headstage of the MEA.\n",
    "\n",
    "Therefore, you must choose between **flexible spike trains with less precise timing** (Python) or **precise timing with less flexibility** (pulse train settings).\n",
    "```\n",
    "\n",
    "Here is an example of how to create one Stimulation parameter :"
   ]
  },
  {
   "cell_type": "code",
   "execution_count": null,
   "id": "bd66e27f",
   "metadata": {
    "vscode": {
     "languageId": "plaintext"
    }
   },
   "outputs": [],
   "source": [
    "stim_param1 = StimParam()\n",
    "stim_param1.enable = True\n",
    "stim_param1.trigger_key = 0\n",
    "stim_param1.polarity = StimPolarity.PositiveFirst\n",
    "stim_param1.phase_duration2 = 100\n",
    "stim_param1.display_attributes()"
   ]
  },
  {
   "cell_type": "markdown",
   "id": "5a807b30",
   "metadata": {},
   "source": [
    "- **Index** : You specify the electrode you want to stimulate.\n",
    "  - As mentioned, you cannot use two distinct parameters with the same electrode index. This will overwrite the previous parameter.\n",
    "- **Trigger key** : You specify the trigger that will be sent to the **Intan Controller**. The controller can accomodate up to **16** triggers (from 0 to 15).\n",
    "  - When you send a trigger, the **Intan Controller** will execute the parameter(s) associated with that trigger.\n",
    "- **Enable** : if the parameter is enabled, the **Intan Software** will record that a given parameter is set for a given trigger.\n"
   ]
  },
  {
   "cell_type": "markdown",
   "id": "020902ca",
   "metadata": {},
   "source": [
    "Then create a list of all the stimulation parameters you created :"
   ]
  },
  {
   "cell_type": "code",
   "execution_count": null,
   "id": "5031bcbd",
   "metadata": {
    "vscode": {
     "languageId": "plaintext"
    }
   },
   "outputs": [],
   "source": [
    "stim_params = [stim_param1]"
   ]
  },
  {
   "cell_type": "markdown",
   "id": "c8a6fd66",
   "metadata": {},
   "source": [
    "Finally we can update those parameters to the intan (this is necessary in order to use them later) :"
   ]
  },
  {
   "cell_type": "code",
   "execution_count": null,
   "id": "ea74967b",
   "metadata": {
    "vscode": {
     "languageId": "plaintext"
    }
   },
   "outputs": [],
   "source": [
    "await intan._send_stimparam(stim_params)\n",
    "time.sleep(1)\n",
    "await intan._upload_stimparam()\n",
    "time.sleep(10)"
   ]
  },
  {
   "cell_type": "markdown",
   "id": "63ab68de",
   "metadata": {},
   "source": [
    "At the end of every experiment, disable all the stimulation parameters by changing the 'enable' parameter to 'False' and updating them in the intan again :"
   ]
  },
  {
   "cell_type": "code",
   "execution_count": null,
   "id": "69df97a0",
   "metadata": {
    "vscode": {
     "languageId": "plaintext"
    }
   },
   "outputs": [],
   "source": [
    "for stim_param in stim_params:\n",
    "    stim_param.enable = False\n",
    "\n",
    "await intan._send_stimparam(stim_params)\n",
    "time.sleep(1)\n",
    "await intan._upload_stimparam()\n",
    "time.sleep(10)"
   ]
  },
  {
   "cell_type": "markdown",
   "id": "23f80495",
   "metadata": {},
   "source": [
    "### Triggers\n",
    "\n",
    "The main new concept here is how to send triggers.\n",
    "\n",
    "When you send a given trigger(s), the **TriggerGenerator** will send a signal to the **Intan Controller** to execute the **StimParam**(s) you set for the trigger(s).\n",
    "\n",
    "To send triggers, use a 16-length array of uint8 to send the triggers. If the value is 1, the trigger is sent. If the value is 0, the trigger is not sent.\n",
    "\n",
    "For example, to send trigger 3, we would define the array as follows:"
   ]
  },
  {
   "cell_type": "code",
   "execution_count": null,
   "id": "fcebb7e3",
   "metadata": {
    "vscode": {
     "languageId": "plaintext"
    }
   },
   "outputs": [],
   "source": [
    "trigger_gen = TriggerController(\"admin\")\n",
    "trigger_array = np.zeros(\n",
    "    16, dtype=np.uint8\n",
    ")  # Here all the triggers are set to 0, so none will be sent\n",
    "\n",
    "trigger_array[3] = 1  # This will send a trigger to the stimulation with trigger_key = 3\n",
    "\n",
    "...  # Run experiment ...\n",
    "\n",
    "trigger_gen.close()  # Close the trigger generator"
   ]
  },
  {
   "cell_type": "markdown",
   "id": "fe75e832",
   "metadata": {},
   "source": [
    "### Example experiment :"
   ]
  },
  {
   "cell_type": "code",
   "execution_count": null,
   "id": "47b312c2",
   "metadata": {
    "vscode": {
     "languageId": "plaintext"
    }
   },
   "outputs": [],
   "source": [
    "stim_param1 = StimParam()  # Create the stimulation parameter\n",
    "stim_param1.index = 23  # Associate it to the electrode 23\n",
    "stim_param1.trigger_key = 2  # Associate it to the trigger 2\n",
    "\n",
    "stim_params = [stim_param1]  # Put all the stimulation parameters in a list\n",
    "\n",
    "intan = IntanController()  # Open the intan controller\n",
    "trigger = TriggerController(\"admin\")  # Open the trigger controller\n",
    "\n",
    "try:\n",
    "    start_exp = datetime.utcnow()\n",
    "\n",
    "    await intan._send_stimparam(\n",
    "        stim_params\n",
    "    )  # Update the stimulation parameters in the intan\n",
    "    await intan._upload_stimparam()\n",
    "    time.sleep(10)\n",
    "\n",
    "    trig_array = np.zeros(\n",
    "        16, dtype=np.uint8\n",
    "    )  # Create the trigger matrix and set the trigger 2 to 1 (so it is activated)\n",
    "    trig_array[2] = 1\n",
    "    for i in range(10):\n",
    "        await trigger.send(\n",
    "            trig_array\n",
    "        )  # Send the trigger matrix (this one has the trigger 2 ativated, and the stim_param1 is associated to it, so it will send the stim_param1 on the electrode 23)\n",
    "        time.sleep(1)\n",
    "\n",
    "    stim_param1.enable = False  # Disable all the stimulation parameters\n",
    "    await intan._send_stimparam(stim_params)\n",
    "    await intan._upload_stimparam()\n",
    "\n",
    "finally:\n",
    "    await intan._close()  # Close the intan and trigger controllers\n",
    "    trigger.close()"
   ]
  },
  {
   "cell_type": "markdown",
   "id": "36a816f7",
   "metadata": {},
   "source": [
    "### Closed Loop\n",
    "\n",
    "If you need to read instantaneously the data from the organoid, you can use the _count_spike function of the intan. It will give you the number of counted spikes for each electrodes during the time interval of your choice."
   ]
  },
  {
   "cell_type": "code",
   "execution_count": null,
   "id": "ce8fa3b1",
   "metadata": {
    "vscode": {
     "languageId": "plaintext"
    }
   },
   "outputs": [],
   "source": [
    "intan = IntanController()\n",
    "\n",
    "try:\n",
    "    # ...\n",
    "    count_spike = await intan._count_spike(\n",
    "        100\n",
    "    )  # Here you just precise how many ms you want to record\n",
    "    # ...\n",
    "\n",
    "finally:\n",
    "    await intan._close()"
   ]
  },
  {
   "cell_type": "markdown",
   "id": "e9dfbb19",
   "metadata": {
    "vscode": {
     "languageId": "plaintext"
    }
   },
   "source": [
    "## Database\n",
    "\n",
    "Now let's see how we can retrieve our experimental data.\n",
    "\n",
    "### Triggers\n",
    "\n",
    "You can get the list of triggers that were sent to the organoid in a chosen time interval with :"
   ]
  },
  {
   "cell_type": "code",
   "execution_count": null,
   "id": "f6b0aa93",
   "metadata": {
    "vscode": {
     "languageId": "plaintext"
    }
   },
   "outputs": [],
   "source": [
    "# Choose your start and stop times in datetime\n",
    "start = ...\n",
    "stop = ...\n",
    "query = TriggersQuery(start, stop)\n",
    "df = await DatabaseController.get_all_triggers(query)\n",
    "df_trig = (\n",
    "    df[df[\"up\"] == 1].drop(\"up\", axis=1).reset_index(drop=True)\n",
    ")  # This lines removes all the duplicates (because df contains all the moments when each trigger went on AND off)\n",
    "df_trig.head()"
   ]
  },
  {
   "cell_type": "markdown",
   "id": "74eb7fac",
   "metadata": {},
   "source": [
    "### Spike Counts\n",
    "\n",
    "This gives you the number of spikes per minutes in a chosen time interval for each electrode. To do that, you need to know the ID (fs...) of the experiment you want to study. "
   ]
  },
  {
   "cell_type": "code",
   "execution_count": null,
   "id": "20b80048",
   "metadata": {
    "vscode": {
     "languageId": "plaintext"
    }
   },
   "outputs": [],
   "source": [
    "query = SpikeCountQuery(start, stop, fsname=\"fs264\")\n",
    "df = await DatabaseController.get_spike_count(query)\n",
    "df.head()"
   ]
  },
  {
   "cell_type": "markdown",
   "id": "0ddbebda",
   "metadata": {},
   "source": [
    "### Spike Events\n",
    "This gives you the timing of each spikes that happened on every electrode in a chosen time interval. Again, you need to know the ID of your experiment."
   ]
  },
  {
   "cell_type": "code",
   "execution_count": null,
   "id": "b2975df9",
   "metadata": {
    "vscode": {
     "languageId": "plaintext"
    }
   },
   "outputs": [],
   "source": [
    "query = SpikeEventQuery(start, stop, fsname=\"fs264\")\n",
    "df_events = await DatabaseController.get_spike_event(query)\n",
    "df_events.head()"
   ]
  },
  {
   "cell_type": "markdown",
   "id": "c12db603",
   "metadata": {},
   "source": [
    "### Raw data\n",
    "\n",
    "You can retrieve the raw data for a specific electrode for a chosen time interval. Remember that we only register 3 ms of raw data around each spike! So the best practice is to first get the spike timing (see Spike Events section right above) and then fetch raw data around it. You can then plot them."
   ]
  },
  {
   "cell_type": "code",
   "execution_count": null,
   "id": "9af251c5",
   "metadata": {
    "vscode": {
     "languageId": "plaintext"
    }
   },
   "outputs": [],
   "source": [
    "t = df_events[\"Time\"].iloc[0]\n",
    "start = t - timedelta(milliseconds=1)\n",
    "stop = t + timedelta(milliseconds=2)\n",
    "\n",
    "query = RawSpikeQuery(start=start, stop=stop, index=channel)\n",
    "raw = await get_raw_spike(query)"
   ]
  },
  {
   "cell_type": "markdown",
   "id": "131f70f3",
   "metadata": {},
   "source": [
    "### Camera\n",
    "\n",
    "To get a picture of your current MEA :"
   ]
  },
  {
   "cell_type": "code",
   "execution_count": null,
   "id": "7b8985f1",
   "metadata": {
    "vscode": {
     "languageId": "plaintext"
    }
   },
   "outputs": [],
   "source": [
    "cam = CameraController(mea=MEA.Five)\n",
    "lastcapture = await cam._last_capture()\n",
    "if len(lastcapture) > 0:\n",
    "    lastcapture = lastcapture.iloc[0][\"id\"]\n",
    "    img = cam._image_from(lastcapture)\n",
    "    plt.imshow(img)"
   ]
  }
 ],
 "metadata": {
  "language_info": {
   "name": "python"
  }
 },
 "nbformat": 4,
 "nbformat_minor": 5
}
