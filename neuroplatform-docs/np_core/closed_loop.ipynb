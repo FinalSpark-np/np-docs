{
 "cells": [
  {
   "cell_type": "markdown",
   "metadata": {},
   "source": [
    "# Closed-loop : reading and stimulating\n",
    "\n",
    "This tutorial details how to use the Intan to read the number of spikes in a way that may be used to perform closed-loop experiments.\n",
    "\n",
    "The concept is that if you need to trigger stimulations based on some response of the organoids, you may use these functionalities to do so.\n",
    "\n",
    "```{note}\n",
    "If you need the activity over periods longer than minutes, you may wish to use the database instead. See the [Database tutorial](db_usage).\n",
    "```"
   ]
  }
 ],
 "metadata": {
  "language_info": {
   "name": "python"
  }
 },
 "nbformat": 4,
 "nbformat_minor": 2
}
