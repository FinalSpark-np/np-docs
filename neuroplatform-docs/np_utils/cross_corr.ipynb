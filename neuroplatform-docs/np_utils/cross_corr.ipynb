{
 "cells": [
  {
   "cell_type": "markdown",
   "metadata": {},
   "source": [
    "# Computing Cross-Correlograms\n",
    "\n",
    "Cross-correlograms (cross-correlation histograms) are used to analyze the temporal relationships between two sets of event times. They are particularly useful for analyzing neural spike data and understanding the interactions between different channels; such as the synchronization of neural activity between different neurons, or complex patterns of co-activation between different sites.\n",
    "\n",
    "The CrossCorrelogram module provides tools to compute and plot cross-correlograms between two sets of event times.\n",
    "\n",
    "To start computing cross-correlograms, initialize the CrossCorrelogram class with the desired time window and bin size. The time window is the duration of the cross-correlogram in milliseconds, and the bin size is the width of each bin in milliseconds. Optionally, you can set the normalize parameter to True to normalize the cross-correlogram by the square root of the product of the number of events in each dataframe."
   ]
  },
  {
   "cell_type": "code",
   "execution_count": null,
   "metadata": {
    "vscode": {
     "languageId": "plaintext"
    }
   },
   "outputs": [],
   "source": [
    "cc = CrossCorrelogram(deltat=50, bin_size=1, normalize=True)  # ms  # ms"
   ]
  },
  {
   "cell_type": "markdown",
   "metadata": {},
   "source": [
    "Then , you may want to use one of the following provided methods:\n",
    "\n",
    "- **compute_from_db** :\n",
    "\n",
    "Compute the cross-correlogram between two channels from the database.\n",
    "\n",
    "Note : requires neuroplatform access to be used.\n",
    "\n",
    "Parameters:\n",
    "\n",
    "fs_id (str): Experiment name, provided by your token.\n",
    "channel_from (int): ID of the first channel (from 0 to 127)\n",
    "channel_to (int): ID of the second channel.\n",
    "start_time (pd.Timestamp): Start time for the analysis.\n",
    "end_time (pd.Timestamp): End time for the analysis.\n",
    "check_for_triggers (bool, optional): Check for triggers in the provided times for the channels. Defaults to False.\n",
    "keep_dfs (bool, optional): If True, returns the dataframes used for the analysis. Defaults to True.\n",
    "\n",
    "Returns:\n",
    "np.ndarray: Cross-correlogram array.\n",
    "\n",
    "\n",
    "- **compute**(self, df1, df2, start_time=None, end_time=None) :\n",
    "\n",
    "Computes the cross-correlogram between the Time column of two dataframes.\n",
    "\n",
    "Parameters:\n",
    "\n",
    "df1 (pd.DataFrame): First dataframe.\n",
    "df2 (pd.DataFrame): Second dataframe.\n",
    "start_time (pd.Timestamp, optional): Start time for the analysis.\n",
    "end_time (pd.Timestamp, optional): End time for the analysis.\n",
    "Returns:\n",
    "\n",
    "np.ndarray: Cross-correlogram array.\n",
    "\n",
    "\n",
    "- **plot** :\n",
    "\n",
    "Plots the cross-correlogram.\n",
    "\n",
    "Parameters:\n",
    "\n",
    "cross_corr (np.ndarray): Cross-correlogram array to be plotted.\n",
    "from_ (str, optional): Name of the first dataframe for the plot title.\n",
    "to_ (str, optional): Name of the second dataframe for the plot title.\n",
    "ax (plt.Axes, optional): Axes object to plot on. If None, a new figure is created."
   ]
  },
  {
   "cell_type": "markdown",
   "metadata": {},
   "source": [
    "To compare two cross-correlograms, you can use the plot_comparison method. This method plots two cross-correlograms on the same figure for comparison.\n",
    "\n",
    "- **plot_comparison** :\n",
    "Plots a comparison of two cross-correlograms.\n",
    "\n",
    "Parameters:\n",
    "\n",
    "cross_corr1 (np.ndarray): First cross-correlogram array.\n",
    "cross_corr2 (np.ndarray): Second cross-correlogram array.\n",
    "from_ (str, optional): Name of the first dataframe for the plot title.\n",
    "to_ (str, optional): Name of the second dataframe for the plot title.\n",
    "ax (plt.Axes, optional): Axes object to plot on. If None, a new figure is created.\n",
    "label1 (str, optional): Label for the first cross-correlogram.\n",
    "label2 (str, optional): Label for the second cross-correlogram.\n",
    "\n",
    "\n",
    "Finally, to quickly check the firing rates for a channel, you may use the get_firing_rate method, as well as the plot_firing_rate method to plot the firing rate.\n",
    "\n",
    "- **plot_firing_rate** :\n",
    "\n",
    "Plots the firing rate of the provided dataframes.\n",
    "\n",
    "Parameters:\n",
    "\n",
    "dfs (list of pd.DataFrame): List of dataframes to be plotted.\n",
    "ax (plt.Axes, optional): Axes object to plot on. If None, a new figure is created.\n",
    "start_time (pd.Timestamp, optional): Start time for the analysis. If None, the minimum time from both dataframes is used.\n",
    "end_time (pd.Timestamp, optional): End time for the analysis. If None, the maximum time from both dataframes is used.\n",
    "\n",
    "\n",
    "- **get_firing_rate** :\n",
    "Computes the firing rate of the dataframe.\n",
    "\n",
    "Parameters:\n",
    "\n",
    "df (pd.DataFrame): Dataframe containing spike events.\n",
    "\n",
    "Returns:\n",
    "\n",
    "pd.DataFrame: Dataframe with the firing rate.\n"
   ]
  }
 ],
 "metadata": {
  "language_info": {
   "name": "python"
  }
 },
 "nbformat": 4,
 "nbformat_minor": 2
}
