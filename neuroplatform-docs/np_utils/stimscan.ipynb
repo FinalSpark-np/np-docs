{
 "cells": [
  {
   "cell_type": "markdown",
   "metadata": {},
   "source": [
    "(np-utils:stimscan)=\n",
    "# Stimulation parameter scan\n",
    "\n",
    "This utility allows you to automatically search for optimal stimulation parameters on a given MEA.\n",
    "\n",
    "```{note}\n",
    "Neuroplatform access (and booking for shared access) is required to use this utility.\n",
    "```\n",
    "\n",
    "\n",
    "## Installation\n",
    "\n",
    "To install all dependencies, run the following command:\n",
    "\n",
    "```bash\n",
    "pip install git+https://github.com/FinalSpark-np/np-utils.git#egg=np_utils[SSN]\n",
    "```\n",
    "\n",
    "## Usage\n",
    "\n",
    "### Imports\n",
    "\n",
    "Import the needed classes :\n"
   ]
  },
  {
   "cell_type": "code",
   "execution_count": null,
   "metadata": {},
   "outputs": [],
   "source": [
    "from neuroplatform import Experiment, StimPolarity\n",
    "from np_utils.stim_scan import StimParamGrid, StimScan, MEAType"
   ]
  },
  {
   "cell_type": "markdown",
   "metadata": {},
   "source": [
    "### Defining a StimParamGrid"
   ]
  },
  {
   "cell_type": "code",
   "execution_count": null,
   "metadata": {},
   "outputs": [],
   "source": [
    "grid = StimParamGrid(\n",
    "    amplitudes=[1, 2, 3],\n",
    "    durations=[100, 200],\n",
    "    polarities=[StimPolarity.NegativeFirst, StimPolarity.PositiveFirst],\n",
    "    mea_type=MEAType.MEA4x8,  # OR MEAType.MEA32\n",
    ")\n",
    "print(grid.total_combinations())\n",
    "grid.display_grid()"
   ]
  },
  {
   "cell_type": "markdown",
   "metadata": {},
   "source": [
    "### Running the scan\n",
    "````{margin}\n",
    "```{seealso}\n",
    "See [Experiment and token](core:exp-and-tokens) for relevant API usage.\n",
    "```\n",
    "````\t\n",
    "\n",
    "Next, define which channels to run the scan on (in absolute index, e.g. for MEA2, channels 32-64)\n",
    "Provide your experiment, the grid of parameters, and the delays as well as number of repeats per channel."
   ]
  },
  {
   "cell_type": "code",
   "execution_count": null,
   "metadata": {},
   "outputs": [],
   "source": [
    "EXPERIMENT = Experiment(\"...\")  # use your token here\n",
    "scan = StimScan(\n",
    "    fs_experiment=EXPERIMENT,\n",
    "    parameter_grid=grid,\n",
    "    delay_btw_stim=1,  # delay between stimulations\n",
    "    delay_btw_channels=5,  # delay between channels\n",
    "    repeats_per_channel=5,  # number of repeats per channel for a single parameter set\n",
    "    scan_channels=range(\n",
    "        32, 64\n",
    "    ),  # channels to scan, here MEA2. Must match electrodes allowed by your token\n",
    ")"
   ]
  },
  {
   "cell_type": "markdown",
   "metadata": {},
   "source": [
    "```{caution}\n",
    "A progress bar for the scan will be displayed.<br>\n",
    "**Take care that the duration of the scan does not exceed that of your booking.**\n",
    "You can reduce the number of parameters, the number of repeats, or the number of channels to scan to reduce the duration.\n",
    "Shortening the delay between stimulations also works, but may cause fatigue and affect the quality of the results.\n",
    "```"
   ]
  },
  {
   "cell_type": "code",
   "execution_count": null,
   "metadata": {},
   "outputs": [],
   "source": [
    "scan.run()"
   ]
  },
  {
   "cell_type": "markdown",
   "metadata": {},
   "source": [
    "### Displaying results\n",
    "\n",
    "#### Showing all stimulations\n",
    "\n",
    "To access the list of all stimulations and associated parameters, use :"
   ]
  },
  {
   "cell_type": "code",
   "execution_count": null,
   "metadata": {},
   "outputs": [],
   "source": [
    "stim_df = scan.get_stimulation_parameter_history()\n",
    "stim_df"
   ]
  },
  {
   "cell_type": "markdown",
   "metadata": {},
   "source": [
    "Finally, to show all events after stimulation :"
   ]
  },
  {
   "cell_type": "code",
   "execution_count": null,
   "metadata": {},
   "outputs": [],
   "source": [
    "scan.plot_all_stims(\n",
    "    s_before=1, s_after=2.5\n",
    ")  # arguments define how long to show before the first stim and after the last respectively"
   ]
  },
  {
   "cell_type": "markdown",
   "metadata": {},
   "source": [
    "You may also use `scan.plot_all_stims_for_param` and `scan.plot_all_stims_for_channel` to visualize the stimulation events specifically for a given parameter or channel.\n",
    "\n",
    "#### Additional plotting options\n",
    "\n",
    "##### Selecting specific channels\n",
    "\n",
    "The `show_electrodes` argument lets you pick which channels to display. By default, all channels are displayed.\n",
    "\n",
    "##### Event interval visualization\n",
    "\n",
    "Finally, you can use the `guideline_freq`argument to show lines every `guideline_freq` seconds. This can be useful to visualize the stimulation events in relation to the stimulation frequency.\n",
    "\n",
    "To do this, define the `guideline_freq` argument as the desired period in seconds as such : \"{n_sec}s\" (e.g. \"1s\" for 1 second).\n",
    "\n",
    "This is None by default, which will not display any guidelines.\n",
    "\n",
    "## Future additions\n",
    "\n",
    "Summary metrics as well as best parameter automated selection may be added in a future version.\n"
   ]
  }
 ],
 "metadata": {
  "kernelspec": {
   "display_name": "fspark",
   "language": "python",
   "name": "python3"
  },
  "language_info": {
   "name": "python",
   "version": "3.11.9"
  }
 },
 "nbformat": 4,
 "nbformat_minor": 2
}
