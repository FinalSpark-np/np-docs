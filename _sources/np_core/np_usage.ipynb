{
 "cells": [
  {
   "cell_type": "markdown",
   "metadata": {
    "vscode": {
     "languageId": "plaintext"
    }
   },
   "source": [
    "# System basics and stimulating organoids\n",
    "\n",
    "The NeuroPlatform uses a dedicated API to control the equipment and to acquire data.\n",
    "\n",
    "Below is an explanation of the system's main components and how to use them.\n",
    "\n",
    "\n"
   ]
  },
  {
   "cell_type": "markdown",
   "metadata": {
    "vscode": {
     "languageId": "plaintext"
    }
   },
   "source": [
    "## Basic concepts"
   ]
  },
  {
   "cell_type": "markdown",
   "metadata": {
    "vscode": {
     "languageId": "plaintext"
    }
   },
   "source": [
    "Let's start with a brief description of the components, and an introduction to the core concepts of the system.\n",
    "\n",
    "Don't worry if not everything is clear, we will put everything in practice below where we show how to use the Python API to control the above system.\n",
    "\n",
    "```{figure} ../_static/images/neuroplatform.png\n",
    "---\n",
    "height: 400px\n",
    "name: neuroplatform-schema\n",
    "---\n",
    "Overview of the NeuroPlatform system.\n",
    "```\n",
    "\n",
    "- **Spike DB** : The database recording all data from the electrodes. This is active 24/7 and will record **spike events** from the electrodes.\n",
    "  - A **spike event** is logged whenever the voltage from an electrode crosses a threshold of six times the standard deviation of the noise.\n",
    "  - For an in-depth tutorial on using the database, see the [Database tutorial](db_usage).\n",
    "- **Intan Software** : This software is connected to the MEAs and is used to configure the system and to acquire data. You will be interacting with this software via Python to control the system.\n",
    "- **Intan Controller** : The hardware in charge of recording and stimulating the electrodes. This is the physical device that is connected to the MEAs.\n",
    "- **Trigger Generator** : This device is used to generate triggers that are sent to the **Intan Controller**.\n",
    "  - When you set a **StimParam** in Python, it will be sent to the Intan software. \n",
    "  - When you send a trigger, the trigger generator will send a signal to the **Intan Controller** to execute the parameter you set for that given trigger.\n",
    "\n",
    "This brings us to the core concepts of the system:\n",
    "\n",
    "- **StimParam** : This is a set of parameters that define a stimulation. It includes the duration, the amplitude, the frequency, and the electrode to stimulate.\n",
    "- The StimParam is associated with a trigger. Whenever said trigger is sent, the **Intan Controller** will execute the **StimParam** associated with that trigger, on the electrode to which the **StimParam** is associated.\n",
    "  - **Index** : The index of the electrode to stimulate. This is the number of the electrode in the MEA.\n",
    "  - **Trigger** : The trigger is used by the **Trigger Generator** to send a signal to the **Intan Controller** to execute the **StimParam**. There is a maximum of 16 triggers that can be used, from 0 to 15.\n",
    "    - For example, if you send trigger 0 with two **StimParam**s with `trigger_key = 0` on electrodes (`index`) 1 and 2 respectively, the **Intan Controller** will stimulate electrodes 1 and 2 using the specified parameters when it receives the trigger 0.\n",
    "\n",
    "```{caution}\n",
    "**DO NOT** use the same index in two different **StimParam**s. This will overwrite the previous **StimParam** and only use the last one.\n",
    "```\n",
    "\n",
    "\n",
    "Now, let's look at code to help you understand the sequence of events, as well as the limitations of the system.\n",
    "\n",
    "### Creating experiments"
   ]
  },
  {
   "cell_type": "markdown",
   "metadata": {},
   "source": [
    "To interact with the system, we use a system of tokens and \"Experiments\".\n",
    "\n",
    "Simply use the provided token to create your experiment.\n",
    "This is used to check that no other experiment is running while you use the system, and avoid conflicts.\n",
    "\n",
    "```{note}\n",
    "If you are unable to start your experiment during your booking because another experiment is running, please contact us.\n",
    "```"
   ]
  },
  {
   "cell_type": "markdown",
   "metadata": {},
   "source": [
    "#### Imports"
   ]
  },
  {
   "cell_type": "code",
   "execution_count": null,
   "metadata": {
    "vscode": {
     "languageId": "plaintext"
    }
   },
   "outputs": [],
   "source": [
    "import numpy as np\n",
    "import time\n",
    "from datetime import datetime, timedelta\n",
    "from IPython.display import clear_output\n",
    "from neuroplatform import StimShape, StimParam , IntanSofware, Trigger, Database, StimPolarity, Experiment"
   ]
  },
  {
   "cell_type": "markdown",
   "metadata": {
    "vscode": {
     "languageId": "plaintext"
    }
   },
   "source": [
    "#### Experiment and token"
   ]
  },
  {
   "cell_type": "code",
   "execution_count": null,
   "metadata": {
    "vscode": {
     "languageId": "plaintext"
    }
   },
   "outputs": [],
   "source": [
    "token = \"9T5KLS6T7X\" # We provide you a token for the experiment\n",
    "exp = Experiment(token)\n",
    "print(f'Electrodes: {exp.electrodes}') # Electrodes that you can use"
   ]
  },
  {
   "cell_type": "markdown",
   "metadata": {},
   "source": [
    "Using your token, you can show which electrodes you may use.\n",
    "\n",
    "To see the live view of the electrode, go to the [Live view](https://livemea.finalspark.com/live) page.\n",
    "Remember to check the \"Absolute Index\" function to get the correct electrode number.\n",
    "\n",
    "\n",
    "```{warning}\n",
    "When you start your experiment, always remember to stop it when you are done.\n",
    "```\n",
    "\n",
    "To start and stop your experiment, we recommend using `try... finally` blocks to ensure that the experiment is stopped even if an error occurs."
   ]
  },
  {
   "cell_type": "code",
   "execution_count": null,
   "metadata": {
    "vscode": {
     "languageId": "plaintext"
    }
   },
   "outputs": [],
   "source": [
    "try:\n",
    "    exp.start()\n",
    "    ... # Your experiment code here\n",
    "finally:\n",
    "    exp.stop() # This ensures a proper shutdown of the experiment"
   ]
  },
  {
   "cell_type": "markdown",
   "metadata": {
    "vscode": {
     "languageId": "plaintext"
    }
   },
   "source": [
    "### Stimulation parameters\n",
    "\n",
    "Now we can define the stimulation parameters.\n",
    "\n",
    "Through Python, you will be controlling the Intan software to set the stimulation parameters.\n",
    "\n",
    "The software provides a view of the parameters :\n",
    "\n",
    "```{figure} ../_static/images/stimparam.png\n",
    "---\n",
    "height: 400px\n",
    "name: stimparam\n",
    "---\n",
    "Stimulation parameters.\n",
    "```\n",
    "\n",
    "```{tip}\n",
    "Feel free to use this as a visual reference when setting your parameters.\n",
    "```\n",
    "\n",
    "Stimulation parameters are defined by the following:\n",
    "\n",
    "#### StimParam reference\n",
    "\n",
    "| Name                     | Description                          | Default Value |\n",
    "|--------------------------|--------------------------------------|---------------|\n",
    "| `enable`                 | Enable stimulation                   | True          |\n",
    "| `index`                  | Electrode for stimulation            | 64            |\n",
    "| `trigger_key`            | Trigger key for stimulation          | 0             |\n",
    "| `polarity`               | Polarity of the stimulation          | PositiveFirst |\n",
    "| `phase_duration1`        | Duration of the first phase (us)     | 100.0         |\n",
    "| `phase_amplitude1`       | Amplitude of the first phase (uA)    | 4.0           |\n",
    "| `phase_duration2`        | Duration of the second phase (us)    | 100           |\n",
    "| `phase_amplitude2`       | Amplitude of the second phase (uA)   | 2.0           |\n",
    "|--------------------------|--------------------------------------|---------------|\n",
    "| `stim_shape`             | Shape of the stimulation             | Biphasic      |\n",
    "| `interphase_delay`       | Delay between phases (ms)            | 0.0           |\n",
    "| `trigger_delay`          | Delay after trigger (ms)             | 0             |\n",
    "| `nb_pulse`               | Number of pulses                     | 0             |\n",
    "| `pulse_train_period`     | Period of pulse train (ms)           | 10000         |\n",
    "|--------------------------|--------------------------------------|---------------|\n",
    "| `post_stim_ref_period`   | Post-stimulation refractory period (ms) | 1000.0    |\n",
    "| `enable_amp_settle`      | Enable amplitude settling            | True          |\n",
    "| `pre_stim_amp_settle`    | Pre-stimulation amplitude settling (ms) | 0.0       |\n",
    "| `post_stim_amp_settle`   | Post-stimulation amplitude settling (ms) | 1000.0    |\n",
    "| `enable_charge_recovery` | Enable charge recovery               | True          |\n",
    "| `post_charge_recovery_on`| Post-charge recovery on time (ms)    | 0.0           |\n",
    "| `post_charge_recovery_off`| Post-charge recovery off time (ms)  | 100.0         |\n",
    "\n",
    "```{seealso}\n",
    ":class: dropdown\n",
    "You can use the [StimParamLoader utility](stimparamloader) to help you check for inconsistencies.\n",
    "```\n",
    "\n",
    "We recommend the following :\n",
    "\n",
    "- The first section of the table contains the basic parameters for the stimulation.\n",
    "  - You likely will have to adapt these for each experiment.\n",
    "  - If possible, balance the charge of the stimulation.\n",
    "    - Ensure that $\\text{phase_duration1} \\times \\text{phase_amplitude1} = \\text{phase_duration2} \\times \\text{phase_amplitude2}$.\n",
    "    - This improves the lifetime of both the organoid and the electrodes.\n",
    "  - The polarity can greatly affect the response. Please remember to check which polarity is best for your experiment.\n",
    "- The second section contains useful parameters you may want to modify for specific experiments.\n",
    "  - The `nb_pulse` parameter is useful for burst stimulation.\n",
    "  - The `pulse_train_period` parameter is useful for setting the period of the burst stimulation.\n",
    "- The last section contains parameters that we recommend leaving as-is.\n",
    "  \n",
    "\n",
    "```{note}\n",
    "Due to the network-based nature of the communication between components, using Python to time your stimulation will always be less precise than using the pulse train settings.\n",
    "However, the pulse train settings may not be changed quickly during the experiment.\n",
    "Therefore, you must choose between flexible spike trains with less precise timing or precise timing with less flexibility.\n",
    "```"
   ]
  },
  {
   "cell_type": "code",
   "execution_count": null,
   "metadata": {
    "vscode": {
     "languageId": "plaintext"
    }
   },
   "outputs": [],
   "source": [
    "stim_param1 = StimParam()\n",
    "stim_param1.enable = True # Enable the stimulation\n",
    "stim_param1.trigger_key = 0 # Trigger key to be used\n",
    "stim_param1.index = 0 # Index of the stimulation\n",
    "# --- Stimulation parameters --- #\n",
    "stim_param1.polarity = StimPolarity.PositiveFirst\n",
    "stim_param1.phase_duration2 = 100\n",
    "stim_param1.phase_duration1 = 100\n",
    "stim_param1.phase_amplitude2 = 100\n",
    "stim_param1.phase_amplitude1 = 100\n",
    "stim_param1.display_attributes()"
   ]
  },
  {
   "cell_type": "code",
   "execution_count": null,
   "metadata": {
    "vscode": {
     "languageId": "plaintext"
    }
   },
   "outputs": [],
   "source": [
    "stim_param2 = StimParam()\n",
    "stim_param2.index = exp.electrodes[8] # Use your provided electrodes to choose the site of stimulation\n",
    "\n",
    "stim_param2.enable = True\n",
    "stim_param2.trigger_key = 10 # The trigger key that will be used to send the stimulation\n",
    "stim_param2.polarity = StimPolarity.NegativeFirst\n",
    "stim_param2.display_attributes()"
   ]
  },
  {
   "cell_type": "markdown",
   "metadata": {
    "vscode": {
     "languageId": "plaintext"
    }
   },
   "source": [
    "When you create a parameter, remember the concepts we previously showcased:\n",
    "\n",
    "- **Index** : You specify the electrode you want to stimulate.\n",
    "  - As mentioned, you cannot use two distinct parameters with the same index. This will overwrite the previous parameter.\n",
    "- **Trigger key** : You specify the trigger that will be sent to the **Intan Controller**. The controller can accomodate **16** triggers.\n",
    "- **Enable** : if the parameter is enabled, the **Intan Software** will record that a given parameter is set for a given trigger.\n",
    "\n",
    "```{note}\n",
    "When you finish your experiment, make sure to disable all **StimParam**s by setting `enable` to `False` and sending them to the **Intan Software**.\n",
    "```"
   ]
  },
  {
   "cell_type": "markdown",
   "metadata": {
    "vscode": {
     "languageId": "plaintext"
    }
   },
   "source": [
    "## Connecting to the Intan and the TriggerGenerator\n",
    "\n",
    "Next, we will review the connection to the **IntanSoftware** and the **TriggerGenerator**, and how to send the parameters we created.\n",
    "\n",
    "### Connecting to the Intan and sending parameters\n",
    "\n",
    "To send the parameters to the **IntanSoftware**, simply do the following:\n"
   ]
  },
  {
   "cell_type": "code",
   "execution_count": null,
   "metadata": {
    "vscode": {
     "languageId": "plaintext"
    }
   },
   "outputs": [],
   "source": [
    "intan = IntanSofware()\n",
    "params = [stim_param1, stim_param2] # Create a list of stimulation parameters\n",
    "\n",
    "intan.send_stimparam(params) # Send the stimulation parameters to the Intan software. THIS TAKES 10 SECONDS\n",
    "...\n",
    "intan.close() # Close the connection to the Intan software"
   ]
  },
  {
   "cell_type": "markdown",
   "metadata": {},
   "source": [
    "```{caution}\n",
    "Always close your connection to the Intan when you are done using `intan.close()`.\n",
    "```\n",
    "\n",
    "**Sending the parameters will take ten seconds to complete.** This is because the **IntanSoftware** will check the parameters and send them to the **Intan Controller**. \n",
    "Currently this cannot be bypassed, therefore parameters have to be set before your experiment starts, or during a ten-second pause in your experiment.\n",
    "\n",
    "```{note}\n",
    "Sending the parameters to the **IntanSoftware** will not stimulate the electrodes. You must send a trigger to the **TriggerGenerator** to stimulate the electrodes. See the next section for more information.\n",
    "```"
   ]
  },
  {
   "cell_type": "markdown",
   "metadata": {},
   "source": [
    "### Connecting to the TriggerGenerator and sending triggers\n",
    "The main new concept here is how to send triggers.\n",
    "\n",
    "When you send a trigger, the **TriggerGenerator** will send a signal to the **Intan Controller** to execute the **StimParam**s you set for that trigger.\n",
    "\n",
    "We use a 16-length array of uint8 to send the triggers. If the value is 1, the trigger is sent. If the value is 0, the trigger is not sent.\n",
    "\n",
    "For example, to send trigger 3, we would define the array as follows:"
   ]
  },
  {
   "cell_type": "code",
   "execution_count": null,
   "metadata": {
    "vscode": {
     "languageId": "plaintext"
    }
   },
   "outputs": [],
   "source": [
    "trigger_gen \n",
    "trigger_array = np.zeros(16, dtype=np.uint8) # Here all the triggers are set to 0, so none will be sent\n",
    "\n",
    "trigger_array[3] = 1 # This will send a trigger to the stimulation with trigger_key = 3\n",
    "... # Run experiment...\n",
    "trigger_gen.close() # Close the trigger generator"
   ]
  },
  {
   "cell_type": "markdown",
   "metadata": {},
   "source": [
    "```{caution}\n",
    "Always close your connection to the **TriggerGenerator** when you are done using `trigger_gen.close()`.\n",
    "``` "
   ]
  },
  {
   "cell_type": "markdown",
   "metadata": {},
   "source": [
    "## Example experiment\n",
    "\n",
    "Let's look at a small, simple example experiment, and put together all the concepts we have seen so far."
   ]
  },
  {
   "cell_type": "code",
   "execution_count": null,
   "metadata": {
    "vscode": {
     "languageId": "plaintext"
    }
   },
   "outputs": [],
   "source": [
    "intan = IntanSofware() # Here we connect to the Intan software\n",
    "trigger_gen = Trigger() # Here we connect to the trigger generator\n",
    "\n",
    "stim_params = [stim_param1, stim_param2]\n",
    "\n",
    "try:\n",
    "    if exp.start(): # Signal the start of an experiment to all users\n",
    "        # Send stim parameter\n",
    "        intan.send_stimparam(stim_params)\n",
    "        start_exp = datetime.utcnow()\n",
    "        print(start_exp)\n",
    "\n",
    "        trigger0 = np.zeros(16, dtype=np.uint8)\n",
    "        trigger0[0] = 1 # Enable stimulation on trigger 0, which is bound to stim_param1\n",
    "        \n",
    "        for i in range(10):\n",
    "            # Stimulation on electrode 0\n",
    "            trigger_gen.send(trigger0) # Here we send ten times the StimParam on electrode 0\n",
    "\n",
    "            time.sleep(1)\n",
    "\n",
    "        stop_exp = datetime.utcnow()\n",
    "        print(stop_exp)\n",
    "\n",
    "        # Disable all stims\n",
    "        for stim in stim_params:\n",
    "            stim.enable = False\n",
    "        intan.send_stimparam(stim_params)\n",
    "\n",
    "finally:\n",
    "    # Close the connection to trigger generator\n",
    "    trigger_gen.close()\n",
    "    # Close the connection to intan software\n",
    "    intan.close()\n",
    "    # Signal the end of an experiment to all users\n",
    "    exp.stop()"
   ]
  },
  {
   "cell_type": "markdown",
   "metadata": {
    "vscode": {
     "languageId": "plaintext"
    }
   },
   "source": [
    "## Advanced functionalities\n",
    "\n",
    "This section lists a few additional functionalities that you may find useful depending on your experiment.\n",
    "\n",
    "### Tagging triggers\n",
    "\n",
    "You can tag triggers with a number to identify them more easily.\n",
    "\n",
    "When you retrieve the triggers in the database, you will see the tag you set. See the [Database tutorial](db_usage) for more information on how to do so."
   ]
  },
  {
   "cell_type": "code",
   "execution_count": null,
   "metadata": {
    "vscode": {
     "languageId": "plaintext"
    }
   },
   "outputs": [],
   "source": [
    "intan.set_tag_trigger(1) # Triggers will have this tag attached to them in the database"
   ]
  },
  {
   "cell_type": "markdown",
   "metadata": {},
   "source": [
    "### Fixed threshold\n",
    "\n",
    "You can set the threshold for spike events to be fixed, which means it will be constant throughout the experiment.\n",
    "\n",
    "As mentioned earlier, the threshold is six times the standard deviation of the noise. This is recomputed when the variance threshold is enabled.\n",
    "\n",
    "```{warning}\n",
    "**ALWAYS** set back the variance threshold to **enabled** after finishing your experiment.\n",
    "```\n",
    "\n",
    "If you need to set a fixed threshold, for example to account for a drift in the noise or activity, you can use:"
   ]
  },
  {
   "cell_type": "code",
   "execution_count": null,
   "metadata": {
    "vscode": {
     "languageId": "plaintext"
    }
   },
   "outputs": [],
   "source": [
    "try:\n",
    "    ... # exp.start, other setup code\n",
    "    intan.var_threshold(False) # Disable the variable threshold\n",
    "    ... # your experiment code\n",
    "finally:\n",
    "    intan.var_threshold(True) # Enable the variable threshold\n",
    "    ... # disable parameters, other cleanup code\n",
    "    exp.stop() # Signal the end of the experiment"
   ]
  },
  {
   "cell_type": "markdown",
   "metadata": {},
   "source": [
    "### Impedance measurement\n",
    "\n",
    "You can ask the Intan to measure the impedance of the electrodes.\n",
    "This takes **ten seconds** to complete, you can then retrieve the impedance values from the database. See the [Database tutorial](db_usage) for instructions."
   ]
  },
  {
   "cell_type": "code",
   "execution_count": null,
   "metadata": {
    "vscode": {
     "languageId": "plaintext"
    }
   },
   "outputs": [],
   "source": [
    "intan.impedance()"
   ]
  }
 ],
 "metadata": {
  "language_info": {
   "name": "python"
  }
 },
 "nbformat": 4,
 "nbformat_minor": 2
}
