{
 "cells": [
  {
   "cell_type": "markdown",
   "metadata": {},
   "source": [
    "# Stimulation parameter loader\n",
    "\n",
    "## Overview\n",
    "\n",
    "The `StimParamLoader` class is a small utility for managing stimulation parameters and previewing them in a plot. It provides functionalities to validate, enable, disable, and send stimulation parameters to the Intan software.\n",
    "\n",
    "## Usage\n",
    "\n",
    "\n",
    "### Creating a StimParamLoader\n",
    "\n",
    "To create a `StimParamLoader` instance, use the following :\n",
    "\n",
    "- `stimparams` : List of `StimParam` instances. Can be None or empty if you prefer to modify the parameters later.\n",
    "- `intan` : Intan software instance. Can be None if you have not booked the Intan, or do not want to send parameters immediately.\n",
    "- `must_connect` : If True, raise an error if the Intan is not connected. Defaults to False.\n",
    "- `verbose` : If True, print out log messages. Defaults to True. Recommended to use while you are first using the utility to understand the process.\n",
    "\n",
    "### Changing parameters\n",
    "\n",
    "There are several options to change the parameters :\n",
    "\n",
    "  - Create the instance with a list of `StimParam` instances.\n",
    "  - Modify the `stimparams` attribute directly.\n",
    "  - Use the `add_stimparam` method to add a new `StimParam` instance to the list.\n",
    "  - Use the `reset` method to clear all parameters.\n",
    "\n",
    "```{danger}\n",
    "Remember to always disable **ALL** parameters sent. If you remove or modify the list of parameters, make sure to disable all parameters and send the update to the Intan before doing so.\n",
    "\n",
    "If you do not disable all parameters before sending new ones, there may be old leftover parameters that are still enabled, which can cause unexpected stimulation when sending triggers.\n",
    "\n",
    "**If you suspect there may be leftover parameters either from your code or another user's session, please contact us.**\n",
    "```\n",
    "\n",
    "### Previewing parameters\n",
    "\n",
    "To preview the parameters in a plot, use the `preview_parameters` method. You can choose to hide empty parameters and use a colorblind-friendly color scheme.\n",
    "\n",
    "The plot is interactive and will display the settings for each parameter when you hover over the electrode.\n",
    "\n",
    "```{figure} ../_static/images/utils/stimparamloader_plot.png\n",
    "---\n",
    "width: 800px\n",
    "name: stimparamloader_plot\n",
    "---\n",
    "StimParamLoader plot preview\n",
    "```\n",
    "\n",
    "\n",
    "### Sending parameters\n",
    "\n",
    "To send the parameters to the Intan, use the `send_parameters` method.<br>\n",
    "This will check if all parameters are valid and enabled before sending them to the Intan.\n",
    "\n",
    "When you are finished with this set of parameters, remember to disable all parameters and send the update to the Intan, using the `disable_all_and_send` method.\n",
    "\n",
    "### Logging messages\n",
    "\n",
    "If using the `verbose` option, all log messages will be shown.<br>\n",
    "If this is impractical to show during your experiment, for example if you are changing parameters frequently in a loop, you may set `verbose=False`.\n",
    "\n",
    "```{hint}\n",
    "To get a history of all log messages, use the `get_log` method to return a DataFrame of all messages, even if `verbose=False`.\n",
    "```\n",
    "\n",
    "## Example code"
   ]
  },
  {
   "cell_type": "code",
   "execution_count": null,
   "metadata": {
    "vscode": {
     "languageId": "plaintext"
    }
   },
   "outputs": [],
   "source": [
    "from neuroplatform_utils import StimParamLoader\n",
    "from neuroplatform import StimParam, StimPolarity"
   ]
  },
  {
   "cell_type": "code",
   "execution_count": null,
   "metadata": {
    "vscode": {
     "languageId": "plaintext"
    }
   },
   "outputs": [],
   "source": [
    "stimparam1 = StimParam()\n",
    "stimparam2 = StimParam()\n",
    "stimparam3 = StimParam()\n",
    "stimparam4 = StimParam()\n",
    "###\n",
    "stimparam1.index = 2\n",
    "stimparam1.enable = True\n",
    "stimparam1.trigger_key = 0\n",
    "stimparam1.nb_pulse = 1\n",
    "stimparam1.polarity = StimPolarity.PositiveFirst\n",
    "stimparam1.phase_duration1 = 100\n",
    "stimparam1.phase_duration2 = 100\n",
    "stimparam1.phase_amplitude1 = 1.0\n",
    "stimparam1.phase_amplitude2 = 1.0\n",
    "###\n",
    "stimparam2.index = 10\n",
    "stimparam2.enable = False\n",
    "stimparam2.trigger_key = 0\n",
    "stimparam2.nb_pulse = 1\n",
    "stimparam2.polarity = StimPolarity.NegativeFirst\n",
    "stimparam2.phase_duration1 = 200\n",
    "stimparam2.phase_duration2 = 200\n",
    "stimparam2.phase_amplitude1 = 2.0\n",
    "stimparam2.phase_amplitude2 = 2.0\n",
    "###\n",
    "stimparam3.index = 18\n",
    "stimparam3.enable = False\n",
    "stimparam3.trigger_key = 0\n",
    "stimparam3.nb_pulse = 1\n",
    "stimparam3.polarity = StimPolarity.PositiveFirst\n",
    "stimparam3.phase_duration1 = 300\n",
    "stimparam3.phase_duration2 = 300\n",
    "stimparam3.phase_amplitude1 = 3.0\n",
    "stimparam3.phase_amplitude2 = 3.0\n",
    "###\n",
    "stimparam4.index = 30\n",
    "stimparam4.enable = True\n",
    "stimparam4.trigger_key = 1\n",
    "stimparam4.nb_pulse = 1\n",
    "stimparam4.polarity = StimPolarity.NegativeFirst\n",
    "stimparam4.phase_duration1 = 400\n",
    "stimparam4.phase_duration2 = 400\n",
    "stimparam4.phase_amplitude1 = 4.0\n",
    "stimparam4.phase_amplitude2 = 4.0"
   ]
  },
  {
   "cell_type": "code",
   "execution_count": null,
   "metadata": {
    "vscode": {
     "languageId": "plaintext"
    }
   },
   "outputs": [],
   "source": [
    "# Create a list of stimparams\n",
    "stimparams = [stimparam1, stimparam2, stimparam3, stimparam4]"
   ]
  },
  {
   "cell_type": "code",
   "execution_count": null,
   "metadata": {
    "vscode": {
     "languageId": "plaintext"
    }
   },
   "outputs": [],
   "source": [
    "loader = StimParamLoader(\n",
    "    stimparams, intan=None, verbose=False\n",
    ")  # not connecting to Intan.\n",
    "# If you want to try the Intan, make sure to book, and set intan=IntanSofware()"
   ]
  },
  {
   "cell_type": "code",
   "execution_count": null,
   "metadata": {
    "vscode": {
     "languageId": "plaintext"
    }
   },
   "outputs": [],
   "source": [
    "# Preview the stimparams with an interactive plot\n",
    "loader.preview_parameters(colorblind=False)"
   ]
  },
  {
   "cell_type": "code",
   "execution_count": null,
   "metadata": {
    "vscode": {
     "languageId": "plaintext"
    }
   },
   "outputs": [],
   "source": [
    "# Enabling all stimparams (this can be done safely without booking the Intan)\n",
    "loader.enable_all()"
   ]
  },
  {
   "cell_type": "code",
   "execution_count": null,
   "metadata": {
    "vscode": {
     "languageId": "plaintext"
    }
   },
   "outputs": [],
   "source": [
    "# Make sure to book the system before enabling the stimparams\n",
    "# loader.send_parameters()"
   ]
  },
  {
   "cell_type": "code",
   "execution_count": null,
   "metadata": {
    "vscode": {
     "languageId": "plaintext"
    }
   },
   "outputs": [],
   "source": [
    "# Disable all stimparams\n",
    "# loader.disable_all_and_send()"
   ]
  },
  {
   "cell_type": "code",
   "execution_count": null,
   "metadata": {
    "vscode": {
     "languageId": "plaintext"
    }
   },
   "outputs": [],
   "source": [
    "# Show the log\n",
    "loader.get_log()"
   ]
  }
 ],
 "metadata": {
  "language_info": {
   "name": "python"
  }
 },
 "nbformat": 4,
 "nbformat_minor": 2
}
