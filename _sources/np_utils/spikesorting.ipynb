{
 "cells": [
  {
   "cell_type": "markdown",
   "metadata": {},
   "source": [
    "# Spike sorting\n",
    "\n",
    "This utility allows you to perform spike sorting directly from the database, and plot the results.\n",
    "\n",
    "It uses [FastICA](https://scikit-learn.org/stable/modules/generated/sklearn.decomposition.FastICA.html) or [PCA](https://scikit-learn.org/stable/modules/generated/sklearn.decomposition.PCA.html) followed by [HDBSCAN](https://scikit-learn.org/stable/modules/generated/sklearn.cluster.HDBSCAN.html) to cluster the spikes.\n",
    "\n",
    "```{note}\n",
    "The current (simple) implementation is mostly meant to help distinguish spikes within the same electrode over a given time period.\n",
    "This is currently not meant to provide an exact \"unit\" attribution for each spike over longer durations, such as for the lifetime of an organoid on the MEA.\n",
    "Clusters assignement **may change for the same profile across different time windows**, due to the non-deterministic nature of the clustering algorithm.\n",
    "```\n",
    "\n",
    "## Introduction\n",
    "\n",
    "**In brief :** Choose an electrode and a time window, and the algorithm will return the spikes detected in this window, and their clustering.\n",
    "\n",
    "Spikes are seperated into two categories :\n",
    "\n",
    "- **Spikes** : The spikes detected in the time window. Labels will vary between 0 and $n_{clusters}$.\n",
    "  - **Outliers** : Spikes that were not assigned to any cluster. Those will always be labeled as **cluster -1**.\n",
    "- **Artifacts** : Spikes that were detected as artifacts.<br> \n",
    "  Those will always be labeled as belonging to cluster -2 to $-n_{artifacts}$.\n",
    "  - Artifacts are detected based on their amplitude. If a spike has an amplitude above the `artifact_threshold`, it will be considered an artifact.\n",
    "\n",
    "## Usage\n",
    "\n",
    "### Creating a SpikeSorting \n",
    "\n",
    "You may set the following parameters :\n",
    "\n",
    "- **Pre-processing**:\n",
    "  - `realign` : Whether to realign spikes based on amplitude. Default is True. This is meant to help align spikes that are not perfectly aligned, and have all peaks centered on time 0.\n",
    "  - `time_before` : Time before the event to include in the window (in ms). Default is 0.5. Maximum is 1.\n",
    "  - `time_after` : Time after the event to include in the window (in ms). Default is 1. Maximum is 2.\n",
    "    - We recommend keeping the default, as the post-spike noise will cause spurious clustering if the window is too large.\n",
    "  - `artifact_threshold` : Threshold to detect artifacts (in uV). Default is 1000. This is meant to detect spikes that are too large to be actual spikes.\n",
    "  - `filter_artifacts` : Whether to filter out artifacts. Default is True. If set to False, artifacts will be treated as regular spikes.\n",
    "- **Hyperparameters**:\n",
    "  - `dimred_method` : Dimensionality reduction method to use. Must be either \"PCA\" or \"ICA\". Default is \"PCA\". **Recommended to try both**.\n",
    "  - `n_components` : Number of components to keep after dimensionality reduction. Default is 3. **Recommended to try different values**.\n",
    "  - `cluster_method` : Clustering method to use. Must be either \"HDBSCAN\" or \"OPTICS\". Default is \"HDBSCAN\". HDBSCAN is recommended.\n",
    "  - `clustering_kwargs` : Additional keyword arguments to pass to the clustering method. Default is None. See the [HDBSCAN documentation](https://hdbscan.readthedocs.io/en/latest/parameter_selection.html) for more information.\n",
    "- **Miscellaneous**:\n",
    "  - `n_jobs` : Number of jobs to run in parallel. Default is 8.\n",
    "    - Avoid setting this too high, as the database will reject too many requests at once."
   ]
  },
  {
   "cell_type": "code",
   "execution_count": null,
   "metadata": {},
   "outputs": [],
   "source": [
    "from dateutil import parser\n",
    "from datetime import timedelta\n",
    "\n",
    "from neuroplatform_utils import SpikeSorting\n",
    "\n",
    "start = parser.parse(\n",
    "    \"2024-10-29 13:00:00\"\n",
    ")  # Change this to the start time of the recording"
   ]
  },
  {
   "cell_type": "code",
   "execution_count": null,
   "metadata": {},
   "outputs": [],
   "source": [
    "EXP_NAME = \"fs300\"\n",
    "N_COMP = 3\n",
    "ELECTRODE = 9\n",
    "sorter = SpikeSorting(dimred_method=\"ICA\", n_components=N_COMP)"
   ]
  },
  {
   "cell_type": "markdown",
   "metadata": {},
   "source": [
    "\n",
    "### Running the SpikeSorting\n",
    "\n",
    "To run the spike sorting, you will need to specify a start and stop time, as well as the experiment ID (`fs#ID`).\n",
    "\n",
    "```{hint}\n",
    ":class: dropdown\n",
    "See the [Database setup](core:database-token) page for more information on how to get the experiment ID.\n",
    "```\n"
   ]
  },
  {
   "cell_type": "code",
   "execution_count": null,
   "metadata": {},
   "outputs": [],
   "source": [
    "events_df = sorter.run_spike_sorting(\n",
    "    start, start + timedelta(minutes=20), fs_id=EXP_NAME, electrode_nb=ELECTRODE\n",
    ")"
   ]
  },
  {
   "cell_type": "markdown",
   "metadata": {},
   "source": [
    "### Plotting the results\n",
    "\n",
    "#### Plots reference\n",
    "\n",
    "The SpikeSorting provides several plots :\n",
    "\n",
    "- `plot_clustered_spikes` : Plot the average waveform of each cluster, with confidence intervals.\n",
    "  - You may choose to show outliers or not using the `show_outliers` parameter.\n",
    "\n",
    "- `plot_clustered_artifacts` : Plot the average waveform of each artifact cluster, with confidence intervals.\n",
    "\n",
    "- `plot_raw_spikes_for_cluster` : Plot all the raw trace of a given cluster.\n",
    "  - Provide a list of which clusters you wish to see plotted.\n",
    "\n",
    "- `plot_raw_outlier_spikes` : Plot all the raw trace of ALL the outliers or artifacts.\n",
    "  - Provide a list of which clusters you wish to see plotted.\n",
    "\n",
    "- `plot_spike_clustering_in_latent_space` : Plot the clustering results in the latent space.\n",
    "  - This will plot the first 3 components of the dimensionality reduction. If you have more components, the plot may be hard to interpret.\n",
    "\n",
    "- `plot_explained_variance` : Plot the explained variance of the PCA. Only available if PCA was used.\n",
    "\n",
    "#### Example plots"
   ]
  },
  {
   "cell_type": "code",
   "execution_count": null,
   "metadata": {},
   "outputs": [],
   "source": [
    "sorter.plot_clustered_spikes(show_outliers=False)"
   ]
  },
  {
   "cell_type": "markdown",
   "metadata": {},
   "source": [
    "```{figure} ../_static/images/utils/spike_sorting_clusters_lineplot.png\n",
    "---\n",
    "width: 800px\n",
    "name: spike_sorting_clusters_lineplot\n",
    "---\n",
    "Plot of the average waveform of each cluster, with confidence intervals.\n",
    "```"
   ]
  },
  {
   "cell_type": "code",
   "execution_count": null,
   "metadata": {},
   "outputs": [],
   "source": [
    "sorter.plot_spike_clustering_in_latent_space()"
   ]
  },
  {
   "cell_type": "markdown",
   "metadata": {},
   "source": [
    "```{figure} ../_static/images/utils/spike_sorting_latent_space_plot.png\n",
    "---\n",
    "width: 800px\n",
    "name: spike_sorting_clusters_latent_space_plot\n",
    "---\n",
    "Plot of the clustering results in the latent space.\n",
    "```"
   ]
  },
  {
   "cell_type": "code",
   "execution_count": null,
   "metadata": {},
   "outputs": [],
   "source": [
    "sorter.plot_raw_spikes_for_cluster(0)"
   ]
  },
  {
   "cell_type": "markdown",
   "metadata": {},
   "source": [
    "```{figure} ../_static/images/utils/spike_sorting_raw_lineplot.png\n",
    "---\n",
    "width: 800px\n",
    "name: spike_sorting_clusters_raw_lineplot\n",
    "---\n",
    "Plot of all the raw trace of a given cluster.\n",
    "```"
   ]
  },
  {
   "cell_type": "markdown",
   "metadata": {},
   "source": [
    "#### Making your own plots\n",
    "\n",
    "You may also use some of the attributes of the SpikeSorting object to make your own plots :\n",
    "\n",
    "- `raw_spikes_df` : DataFrame containing the raw spikes, with clustering results.\n",
    "- `processed_spike_events_df` : DataFrame containing the spike events with clustering results.\n",
    "- `dimred_method_spikes.fit_data_df` : DataFrame containing the dimensionality reduction, with clustering results.\n",
    "\n",
    "```{hint}\n",
    "Make sure to copy those DataFrames before modifying them, as they are directly linked to the SpikeSorting object.\n",
    "```\n"
   ]
  }
 ],
 "metadata": {
  "kernelspec": {
   "display_name": "fspark",
   "language": "python",
   "name": "python3"
  },
  "language_info": {
   "name": "python",
   "version": "3.11.9"
  }
 },
 "nbformat": 4,
 "nbformat_minor": 2
}
